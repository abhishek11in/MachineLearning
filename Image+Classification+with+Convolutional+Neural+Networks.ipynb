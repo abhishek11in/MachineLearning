{
 "cells": [
  {
   "cell_type": "markdown",
   "metadata": {},
   "source": [
    "### Image Classification with Convolutional Neural Networks in Python 3.5 ###\n",
    "This example uses keras library (with Tensorflow as the backend) for (binary) image classification by using convolutional neural networks. For best results it is recommended that you have as many images as possible (10,000+ recommended). You can then split the dataset images into training-set/test-set in the ratio of 4:1 (80000 images in training-set and 20000 images in test-set if you have total 100,000 images).\n",
    "Once you have trained the algorithm, you can then test for individual image classification using the model's prediction method"
   ]
  },
  {
   "cell_type": "code",
   "execution_count": null,
   "metadata": {
    "collapsed": true
   },
   "outputs": [],
   "source": [
    "'''\n",
    "You must make sure that your dataset is organized in this way (for example : if you are classifying apples and oranges) :\n",
    "    /dataset\n",
    "        /training_set_images\n",
    "            /apple\n",
    "                apple.1.jpg\n",
    "                apple.2.jpg\n",
    "                ...\n",
    "            /orange\n",
    "                orange.1.jpg\n",
    "                orange.2.jpg\n",
    "                ...\n",
    "        /test_set_images\n",
    "            /apple\n",
    "                apple.1.jpg\n",
    "                apple.2.jpg\n",
    "                ...\n",
    "            /orange\n",
    "                orange.1.jpg\n",
    "                orange.2.jpg\n",
    "                ...\n",
    "        /prediction\n",
    "            /prediction_image.jpg\n",
    "'''"
   ]
  },
  {
   "cell_type": "code",
   "execution_count": null,
   "metadata": {
    "collapsed": true
   },
   "outputs": [],
   "source": [
    "# Importing the Keras libraries and packages\n",
    "# If running locally, please make sure that you have installed Tensorflow and keras. Best way is to do it via conda.\n",
    "from keras.models import Sequential\n",
    "from keras.layers import Convolution2D\n",
    "from keras.layers import MaxPooling2D\n",
    "from keras.layers import Flatten\n",
    "from keras.layers import Dense"
   ]
  },
  {
   "cell_type": "code",
   "execution_count": null,
   "metadata": {
    "collapsed": true
   },
   "outputs": [],
   "source": [
    "# Initialising the CNN\n",
    "classifier = Sequential()\n",
    "\n",
    "# Convolution\n",
    "# Utilizing 64 feature detectors (each of size 3x3)\n",
    "# Input images to come in 3D array of size 3x64x64\n",
    "classifier.add(Convolution2D(64, (3, 3), input_shape = (64, 64, 3), activation = 'relu'))\n",
    "\n",
    "# Pooling\n",
    "classifier.add(MaxPooling2D(pool_size = (2, 2)))\n",
    "\n",
    "# (Optional) Adding a second convolutional layer\n",
    "classifier.add(Convolution2D(64, (3, 3), activation = 'relu'))\n",
    "classifier.add(MaxPooling2D(pool_size = (2, 2)))\n",
    "\n",
    "# Flattening\n",
    "classifier.add(Flatten())\n",
    "\n",
    "# Full connection\n",
    "classifier.add(Dense(units = 128, activation = 'relu'))\n",
    "classifier.add(Dense(units = 1, activation = 'sigmoid'))\n",
    "\n",
    "# Compiling the CNN\n",
    "classifier.compile(optimizer = 'adam', loss = 'binary_crossentropy', metrics = ['accuracy'])"
   ]
  },
  {
   "cell_type": "code",
   "execution_count": null,
   "metadata": {
    "collapsed": true
   },
   "outputs": [],
   "source": [
    "# Fitting the CNN to the images\n",
    "from keras.preprocessing.image import ImageDataGenerator\n",
    "train_image_datagen = ImageDataGenerator(rescale = 1./255,\n",
    "                                   shear_range = 0.2,\n",
    "                                   zoom_range = 0.2,\n",
    "                                   horizontal_flip = True)\n",
    "\n",
    "test_image_datagen = ImageDataGenerator(rescale = 1./255)\n",
    "\n",
    "training_set_images = train_image_datagen.flow_from_directory('path/to/your/training_set_images',\n",
    "                                                 target_size = (64, 64),\n",
    "                                                 batch_size = 32,\n",
    "                                                 class_mode = 'binary')\n",
    "\n",
    "test_set_images = test_image_datagen.flow_from_directory('path/to/your/test_set_images',\n",
    "                                            target_size = (64, 64),\n",
    "                                            batch_size = 32,\n",
    "                                            class_mode = 'binary')\n",
    "\n",
    "classifier.fit_generator(training_set_images,\n",
    "                         steps_per_epoch = 80000/32, # change this to number of images/batch size in your training_set\n",
    "                         epochs = 25,\n",
    "                         validation_data = test_set_images,\n",
    "                         validation_steps = 20000/32) # change this to number of images/batch size in in your test_set"
   ]
  },
  {
   "cell_type": "code",
   "execution_count": null,
   "metadata": {
    "collapsed": true
   },
   "outputs": [],
   "source": [
    "# Make the prediction\n",
    "\n",
    "import numpy as np\n",
    "from keras.preprocessing import image\n",
    "predict_image = image.load_img('path/to/your/prediction_image', target_size = (64, 64))\n",
    "predict_image = image.img_to_array(predict_image)\n",
    "predict_image = np.expand_dims(predict_image, axis = 0)\n",
    "predicted_result = classifier.predict(predict_image)\n",
    "print(predicted_result)\n",
    "print(training_set_images.class_indices)\n",
    "# You can map the result value with your indices to see which class the output result corresponds to"
   ]
  }
 ],
 "metadata": {
  "kernelspec": {
   "display_name": "py35",
   "language": "python",
   "name": "py35"
  },
  "language_info": {
   "codemirror_mode": {
    "name": "ipython",
    "version": 3
   },
   "file_extension": ".py",
   "mimetype": "text/x-python",
   "name": "python",
   "nbconvert_exporter": "python",
   "pygments_lexer": "ipython3",
   "version": "3.5.4"
  }
 },
 "nbformat": 4,
 "nbformat_minor": 2
}
